{
 "cells": [
  {
   "cell_type": "code",
   "execution_count": 57,
   "id": "1d141655",
   "metadata": {},
   "outputs": [],
   "source": [
    "#Import all necessary libraries\n",
    "import requests\n",
    "import os\n",
    "import shutil\n",
    "import pandas as pd\n",
    "import numpy as np\n",
    "import urllib.request\n",
    "from pprint import pprint\n",
    "from html_table_parser.parser import HTMLTableParser\n",
    "from bs4 import BeautifulSoup"
   ]
  },
  {
   "cell_type": "code",
   "execution_count": 58,
   "id": "fb3e788e",
   "metadata": {},
   "outputs": [],
   "source": [
    "#Defining our year rage\n",
    "years = list(range(1991,2023))"
   ]
  },
  {
   "cell_type": "code",
   "execution_count": 74,
   "id": "0d6a02e8",
   "metadata": {},
   "outputs": [],
   "source": [
    "#Download all html pages from the MVP voting web pages\n",
    "url_start = \"https://www.basketball-reference.com/awards/awards_{}.html\"\n",
    "\n",
    "for year in years:\n",
    "    url = url_start.format(year)\n",
    "    \n",
    "    data = requests.get(url)\n",
    "    \n",
    "    with open(\"MVP_Vote_List/mvp_{}.html\".format(year), \"w+\", encoding=\"utf-8\") as f:\n",
    "        f.write(data.text)\n"
   ]
  },
  {
   "cell_type": "code",
   "execution_count": 63,
   "id": "1138d8b4",
   "metadata": {},
   "outputs": [
    {
     "ename": "AttributeError",
     "evalue": "'NoneType' object has no attribute 'decompose'",
     "output_type": "error",
     "traceback": [
      "\u001b[1;31m---------------------------------------------------------------------------\u001b[0m",
      "\u001b[1;31mAttributeError\u001b[0m                            Traceback (most recent call last)",
      "Cell \u001b[1;32mIn[63], line 7\u001b[0m\n\u001b[0;32m      4\u001b[0m     page \u001b[38;5;241m=\u001b[39m f\u001b[38;5;241m.\u001b[39mread()\n\u001b[0;32m      6\u001b[0m soup \u001b[38;5;241m=\u001b[39m BeautifulSoup(page, \u001b[38;5;124m'\u001b[39m\u001b[38;5;124mhtml.parser\u001b[39m\u001b[38;5;124m'\u001b[39m)\n\u001b[1;32m----> 7\u001b[0m \u001b[43msoup\u001b[49m\u001b[38;5;241;43m.\u001b[39;49m\u001b[43mfind\u001b[49m\u001b[43m(\u001b[49m\u001b[38;5;124;43m'\u001b[39;49m\u001b[38;5;124;43mtr\u001b[39;49m\u001b[38;5;124;43m'\u001b[39;49m\u001b[43m,\u001b[49m\u001b[43m \u001b[49m\u001b[43mclass_\u001b[49m\u001b[38;5;241;43m=\u001b[39;49m\u001b[38;5;124;43m\"\u001b[39;49m\u001b[38;5;124;43mover_header\u001b[39;49m\u001b[38;5;124;43m\"\u001b[39;49m\u001b[43m)\u001b[49m\u001b[38;5;241;43m.\u001b[39;49m\u001b[43mdecompose\u001b[49m()\n\u001b[0;32m      8\u001b[0m mvp_table \u001b[38;5;241m=\u001b[39m soup\u001b[38;5;241m.\u001b[39mfind_all(\u001b[38;5;28mid\u001b[39m\u001b[38;5;241m=\u001b[39m\u001b[38;5;124m\"\u001b[39m\u001b[38;5;124mmvp\u001b[39m\u001b[38;5;124m\"\u001b[39m)[\u001b[38;5;241m0\u001b[39m]\n\u001b[0;32m      9\u001b[0m mvp_df \u001b[38;5;241m=\u001b[39m pd\u001b[38;5;241m.\u001b[39mread_html(\u001b[38;5;28mstr\u001b[39m(mvp_table))[\u001b[38;5;241m0\u001b[39m]\n",
      "\u001b[1;31mAttributeError\u001b[0m: 'NoneType' object has no attribute 'decompose'"
     ]
    }
   ],
   "source": [
    "#Extract the MVP voting tables from all our downloaded HTML pages\n",
    "\n",
    "dfs = []\n",
    "for year in years:\n",
    "    with open(\"MVP_Vote_List/mvp_{}.html\".format(year), encoding=\"utf-8\") as f:\n",
    "        page = f.read()\n",
    "    \n",
    "    soup = BeautifulSoup(page, 'html.parser')\n",
    "    soup.find('tr', class_=\"over_header\").decompose()\n",
    "    mvp_table = soup.find_all(id=\"mvp\")[0]\n",
    "    mvp_df = pd.read_html(str(mvp_table))[0]\n",
    "    mvp_df[\"Year\"] = year\n",
    "    mvp_df[\"Won\"] = np.where(mvp_df['First'] == max(mvp_df['First']), \"Yes\", \"No\")\n",
    "    dfs.append(mvp_df)\n",
    "    \n",
    "mvps = pd.concat(dfs)"
   ]
  },
  {
   "cell_type": "code",
   "execution_count": 62,
   "id": "0d5cd696",
   "metadata": {},
   "outputs": [
    {
     "ename": "NameError",
     "evalue": "name 'mvps' is not defined",
     "output_type": "error",
     "traceback": [
      "\u001b[1;31m---------------------------------------------------------------------------\u001b[0m",
      "\u001b[1;31mNameError\u001b[0m                                 Traceback (most recent call last)",
      "Cell \u001b[1;32mIn[62], line 1\u001b[0m\n\u001b[1;32m----> 1\u001b[0m mvps \u001b[38;5;241m=\u001b[39m \u001b[43mmvps\u001b[49m\u001b[38;5;241m.\u001b[39mreplace({\u001b[38;5;124m'\u001b[39m\u001b[38;5;124mTm\u001b[39m\u001b[38;5;124m'\u001b[39m : {\u001b[38;5;124m'\u001b[39m\u001b[38;5;124mPHO\u001b[39m\u001b[38;5;124m'\u001b[39m : \u001b[38;5;124m'\u001b[39m\u001b[38;5;124mPHX\u001b[39m\u001b[38;5;124m'\u001b[39m, \u001b[38;5;124m'\u001b[39m\u001b[38;5;124mNJN\u001b[39m\u001b[38;5;124m'\u001b[39m : \u001b[38;5;124m'\u001b[39m\u001b[38;5;124mBKN\u001b[39m\u001b[38;5;124m'\u001b[39m, \u001b[38;5;124m'\u001b[39m\u001b[38;5;124mCHH\u001b[39m\u001b[38;5;124m'\u001b[39m : \u001b[38;5;124m'\u001b[39m\u001b[38;5;124mCHA\u001b[39m\u001b[38;5;124m'\u001b[39m, \u001b[38;5;124m'\u001b[39m\u001b[38;5;124mNOH\u001b[39m\u001b[38;5;124m'\u001b[39m:\u001b[38;5;124m'\u001b[39m\u001b[38;5;124mNOP\u001b[39m\u001b[38;5;124m'\u001b[39m, \u001b[38;5;124m'\u001b[39m\u001b[38;5;124mBRK\u001b[39m\u001b[38;5;124m'\u001b[39m: \u001b[38;5;124m'\u001b[39m\u001b[38;5;124mBKN\u001b[39m\u001b[38;5;124m'\u001b[39m, \u001b[38;5;124m'\u001b[39m\u001b[38;5;124mWSB\u001b[39m\u001b[38;5;124m'\u001b[39m:\u001b[38;5;124m'\u001b[39m\u001b[38;5;124mWAS\u001b[39m\u001b[38;5;124m'\u001b[39m}})\n",
      "\u001b[1;31mNameError\u001b[0m: name 'mvps' is not defined"
     ]
    }
   ],
   "source": [
    "#Cleaning the Teams column with updated teams abbreviations\n",
    "mvps = mvps.replace({'Tm' : {'PHO' : 'PHX', 'NJN' : 'BKN', 'CHH' : 'CHA', 'NOH':'NOP', 'BRK': 'BKN', 'WSB':'WAS'}})"
   ]
  },
  {
   "cell_type": "code",
   "execution_count": 16,
   "id": "b652c423",
   "metadata": {},
   "outputs": [],
   "source": [
    "#Load the data into a CSV file\n",
    "mvps.to_csv(\"mvp_data.csv\", sep='\\t', encoding='utf-8')"
   ]
  },
  {
   "cell_type": "code",
   "execution_count": null,
   "id": "9443bfd9",
   "metadata": {},
   "outputs": [],
   "source": [
    "#Download all html pages from the NBA standing web pages\n",
    "url_origin = \"https://www.basketball-reference.com/leagues/NBA_{}_standings.html\"\n",
    "\n",
    "for year in years:\n",
    "    team_url = url_origin.format(year)\n",
    "    \n",
    "    team_data = requests.get(team_url)\n",
    "    \n",
    "    with open(\"TeamRecord/{}.html\".format(year), \"w+\", encoding=\"utf-8\") as f:\n",
    "        f.write(team_data.text)"
   ]
  },
  {
   "cell_type": "code",
   "execution_count": 41,
   "id": "d416f957",
   "metadata": {},
   "outputs": [],
   "source": [
    "#Extract the MVP voting tables from all our downloaded HTML pages\n",
    "dfs = []\n",
    "for year in years:\n",
    "    with open(\"TeamRecord/{}.html\".format(year), encoding=\"utf-8\") as f:\n",
    "            page = f.read()\n",
    "\n",
    "    soup = BeautifulSoup(page, 'html.parser')\n",
    "\n",
    "    while len(soup.find_all('tr', class_=\"thead\")) != 0:\n",
    "            soup.find('tr', class_=\"thead\").decompose()\n",
    "    \n",
    "    west_team_table = soup.find(id=\"divs_standings_W\")\n",
    "    west_team_df = pd.read_html(str(west_team_table))[0]\n",
    "    west_team_df[\"Year\"] = year\n",
    "    west_team_df.rename(columns = {\"Western Conference\":\"TeamName\"}, inplace = True)\n",
    "    dfs.append(west_team_df)\n",
    "    \n",
    "    east_team_table = soup.find(id=\"divs_standings_E\")\n",
    "    east_team_df = pd.read_html(str(east_team_table))[0]\n",
    "    east_team_df[\"Year\"] = year\n",
    "    east_team_df.rename(columns = {\"Eastern Conference\":\"TeamName\"}, inplace = True)\n",
    "    dfs.append(east_team_df)\n",
    "    \n",
    "nba_standings = pd.concat(dfs)"
   ]
  },
  {
   "cell_type": "code",
   "execution_count": 51,
   "id": "6ebe82d2",
   "metadata": {},
   "outputs": [
    {
     "name": "stderr",
     "output_type": "stream",
     "text": [
      "C:\\Users\\nsigh\\AppData\\Local\\Temp\\ipykernel_16940\\1310188431.py:1: FutureWarning: The default value of regex will change from True to False in a future version. In addition, single character regular expressions will *not* be treated as literal strings when regex=True.\n",
      "  nba_standings[\"TeamName\"] = nba_standings[\"TeamName\"].str.replace('*' , '')\n"
     ]
    }
   ],
   "source": [
    "#Clean the TeamName column\n",
    "nba_standings[\"TeamName\"] = nba_standings[\"TeamName\"].str.replace('*' , '')"
   ]
  },
  {
   "cell_type": "code",
   "execution_count": 53,
   "id": "b7851416",
   "metadata": {},
   "outputs": [],
   "source": [
    "#Drop useless columns\n",
    "nba_standings.drop(nba_standings.columns[[4, 5, 6,7]], axis=1, inplace=True)"
   ]
  },
  {
   "cell_type": "code",
   "execution_count": 55,
   "id": "1b2a5e8c",
   "metadata": {},
   "outputs": [],
   "source": [
    "#Load the data into a CSV file\n",
    "nba_standings.to_csv(\"TeamRecord/standings_data.csv\", sep='\\t', encoding='utf-8')"
   ]
  },
  {
   "cell_type": "code",
   "execution_count": 21,
   "id": "740ab843",
   "metadata": {},
   "outputs": [],
   "source": [
    "#Wiki page of all nba abbreviation + their full name\n",
    "url_wiki = \"https://en.wikipedia.org/wiki/Wikipedia:WikiProject_National_Basketball_Association/National_Basketball_Association_team_abbreviations\""
   ]
  },
  {
   "cell_type": "code",
   "execution_count": 22,
   "id": "d009fa5c",
   "metadata": {},
   "outputs": [],
   "source": [
    "#urllib function to extract table\n",
    "def url_get_contents(url):\n",
    "\n",
    "    req = urllib.request.Request(url=url)\n",
    "    f = urllib.request.urlopen(req)\n",
    "\n",
    "    return f.read()"
   ]
  },
  {
   "cell_type": "code",
   "execution_count": 23,
   "id": "770da1d4",
   "metadata": {},
   "outputs": [],
   "source": [
    "page = url_get_contents(url_wiki).decode('utf-8')"
   ]
  },
  {
   "cell_type": "code",
   "execution_count": 24,
   "id": "fa7221e7",
   "metadata": {},
   "outputs": [],
   "source": [
    "parser = HTMLTableParser()"
   ]
  },
  {
   "cell_type": "code",
   "execution_count": 25,
   "id": "35e564c1",
   "metadata": {},
   "outputs": [],
   "source": [
    "parser.feed(page)"
   ]
  },
  {
   "cell_type": "code",
   "execution_count": 27,
   "id": "23ace82e",
   "metadata": {},
   "outputs": [
    {
     "name": "stdout",
     "output_type": "stream",
     "text": [
      "[['Abbreviation/ Acronym', 'Franchise'],\n",
      " ['ATL', 'Atlanta Hawks'],\n",
      " ['BKN', 'Brooklyn Nets'],\n",
      " ['BOS', 'Boston Celtics'],\n",
      " ['CHA', 'Charlotte Hornets'],\n",
      " ['CHI', 'Chicago Bulls'],\n",
      " ['CLE', 'Cleveland Cavaliers'],\n",
      " ['DAL', 'Dallas Mavericks'],\n",
      " ['DEN', 'Denver Nuggets'],\n",
      " ['DET', 'Detroit Pistons'],\n",
      " ['GSW', 'Golden State Warriors'],\n",
      " ['HOU', 'Houston Rockets'],\n",
      " ['IND', 'Indiana Pacers'],\n",
      " ['LAC', 'Los Angeles Clippers'],\n",
      " ['LAL', 'Los Angeles Lakers'],\n",
      " ['MEM', 'Memphis Grizzlies'],\n",
      " ['MIA', 'Miami Heat'],\n",
      " ['MIL', 'Milwaukee Bucks'],\n",
      " ['MIN', 'Minnesota Timberwolves'],\n",
      " ['NOP', 'New Orleans Pelicans'],\n",
      " ['NYK', 'New York Knicks'],\n",
      " ['OKC', 'Oklahoma City Thunder'],\n",
      " ['ORL', 'Orlando Magic'],\n",
      " ['PHI', 'Philadelphia 76ers'],\n",
      " ['PHX', 'Phoenix Suns'],\n",
      " ['POR', 'Portland Trail Blazers'],\n",
      " ['SAC', 'Sacramento Kings'],\n",
      " ['SAS', 'San Antonio Spurs'],\n",
      " ['TOR', 'Toronto Raptors'],\n",
      " ['UTA', 'Utah Jazz'],\n",
      " ['WAS', 'Washington Wizards']]\n"
     ]
    }
   ],
   "source": [
    "pprint(parser.tables[0])"
   ]
  },
  {
   "cell_type": "code",
   "execution_count": 28,
   "id": "467d4cdb",
   "metadata": {},
   "outputs": [],
   "source": [
    "nba_teams = pd.DataFrame(parser.tables[0])"
   ]
  },
  {
   "cell_type": "code",
   "execution_count": 36,
   "id": "8ed1b96b",
   "metadata": {},
   "outputs": [],
   "source": [
    "#Change column name to first row and delete the first row\n",
    "nba_teams.columns = nba_teams.iloc[0]\n",
    "nba_teams = nba_teams.drop(index=0)"
   ]
  },
  {
   "cell_type": "code",
   "execution_count": 39,
   "id": "20762481",
   "metadata": {},
   "outputs": [],
   "source": [
    "#Load the data to CSV file\n",
    "nba_teams.to_csv(\"TeamRecord/teams_data.csv\", sep='\\t', encoding='utf-8')"
   ]
  }
 ],
 "metadata": {
  "kernelspec": {
   "display_name": "Python 3 (ipykernel)",
   "language": "python",
   "name": "python3"
  },
  "language_info": {
   "codemirror_mode": {
    "name": "ipython",
    "version": 3
   },
   "file_extension": ".py",
   "mimetype": "text/x-python",
   "name": "python",
   "nbconvert_exporter": "python",
   "pygments_lexer": "ipython3",
   "version": "3.11.2"
  }
 },
 "nbformat": 4,
 "nbformat_minor": 5
}
